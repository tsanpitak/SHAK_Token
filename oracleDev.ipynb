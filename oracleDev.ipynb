{
 "cells": [
  {
   "cell_type": "code",
   "execution_count": 15,
   "metadata": {},
   "outputs": [],
   "source": [
    "##############################################################\n",
    "# Just test code to develop price oracle function "
   ]
  },
  {
   "cell_type": "code",
   "execution_count": 16,
   "metadata": {},
   "outputs": [],
   "source": [
    "#!pip install web3"
   ]
  },
  {
   "cell_type": "code",
   "execution_count": 17,
   "metadata": {},
   "outputs": [],
   "source": [
    "import os\n",
    "from dotenv import load_dotenv\n",
    "from requests import Request, Session\n",
    "from requests.exceptions import ConnectionError, Timeout, TooManyRedirects\n",
    "import json\n",
    "from web3 import Web3\n",
    "\n",
    "from flask import Flask\n",
    "from flask import request\n",
    "from flask import jsonify"
   ]
  },
  {
   "cell_type": "code",
   "execution_count": 18,
   "metadata": {},
   "outputs": [],
   "source": [
    "# Grab the CoinMarketData api key and Infura project id \n",
    "# stored in .env and verify they're are valid strings\n",
    "load_dotenv()\n",
    "cmc_api_key = os.getenv(\"CMC_PRO_API_KEY\")\n",
    "project_id = os.getenv(\"WEB3_INFURA_PROJECT_ID\")\n",
    "\n",
    "if (type(cmc_api_key) != str):\n",
    "    print(f\"Invalid key found for CMC_PRO_API_KEY\")\n",
    "if (type(project_id) != str):\n",
    "    print(f\"Invalid key found for WEB3_INFURA_PROJECT_ID\")"
   ]
  },
  {
   "cell_type": "code",
   "execution_count": 19,
   "metadata": {},
   "outputs": [
    {
     "name": "stdout",
     "output_type": "stream",
     "text": [
      "{\n",
      "    \"status\": {\n",
      "        \"timestamp\": \"2021-03-03T03:42:31.550Z\",\n",
      "        \"error_code\": 0,\n",
      "        \"error_message\": null,\n",
      "        \"elapsed\": 14,\n",
      "        \"credit_count\": 1,\n",
      "        \"notice\": null\n",
      "    },\n",
      "    \"data\": {\n",
      "        \"ETH\": {\n",
      "            \"id\": 1027,\n",
      "            \"name\": \"Ethereum\",\n",
      "            \"symbol\": \"ETH\",\n",
      "            \"slug\": \"ethereum\",\n",
      "            \"num_market_pairs\": 6097,\n",
      "            \"date_added\": \"2015-08-07T00:00:00.000Z\",\n",
      "            \"tags\": [\n",
      "                \"mineable\",\n",
      "                \"pow\",\n",
      "                \"smart-contracts\",\n",
      "                \"coinbase-ventures-portfolio\",\n",
      "                \"three-arrows-capital-portfolio\",\n",
      "                \"polychain-capital-portfolio\"\n",
      "            ],\n",
      "            \"max_supply\": null,\n",
      "            \"circulating_supply\": 114891498.874,\n",
      "            \"total_supply\": 114891498.874,\n",
      "            \"platform\": {\n",
      "                \"id\": 1839,\n",
      "                \"name\": \"Heco\",\n",
      "                \"symbol\": \"BNB\",\n",
      "                \"slug\": \"binance-coin\",\n",
      "                \"token_address\": \"0x64ff637fb478863b7468bc97d30a5bf3a428a1fd\"\n",
      "            },\n",
      "            \"is_active\": 1,\n",
      "            \"cmc_rank\": 2,\n",
      "            \"is_fiat\": 0,\n",
      "            \"last_updated\": \"2021-03-03T03:41:02.000Z\",\n",
      "            \"quote\": {\n",
      "                \"USD\": {\n",
      "                    \"price\": 1519.9192945337836,\n",
      "                    \"volume_24h\": 21182231739.651913,\n",
      "                    \"percent_change_1h\": 0.66347293,\n",
      "                    \"percent_change_24h\": -3.78876643,\n",
      "                    \"percent_change_7d\": -6.55021858,\n",
      "                    \"percent_change_30d\": 15.43358933,\n",
      "                    \"market_cap\": 174625805916.49908,\n",
      "                    \"last_updated\": \"2021-03-03T03:41:02.000Z\"\n",
      "                }\n",
      "            }\n",
      "        }\n",
      "    }\n",
      "}\n"
     ]
    }
   ],
   "source": [
    "# Fetch latest ETH price from aggregate exchange average calculated by\n",
    "# CoinMarketCap API.\n",
    "\n",
    "cmc_url = 'https://pro-api.coinmarketcap.com/v1/cryptocurrency/quotes/latest'\n",
    "parameters = {'symbol':'ETH'}\n",
    "headers = {\n",
    "    'Accepts': 'application/json',\n",
    "    'Accept-Encoding': 'deflate, gzip',\n",
    "    'X-CMC_PRO_API_KEY': cmc_api_key,\n",
    "}\n",
    "session = Session()\n",
    "session.headers.update(headers)\n",
    "try:\n",
    "    response = session.get(cmc_url, params=parameters)\n",
    "    data = json.loads(response.text)\n",
    "    print(json.dumps(data, indent=4))\n",
    "except (ConnectionError, Timeout, TooManyRedirects) as e:\n",
    "    print(e)"
   ]
  },
  {
   "cell_type": "code",
   "execution_count": 20,
   "metadata": {},
   "outputs": [
    {
     "name": "stdout",
     "output_type": "stream",
     "text": [
      "1519.9192945337836\n"
     ]
    }
   ],
   "source": [
    "eth_price = data[\"data\"][\"ETH\"][\"quote\"][\"USD\"][\"price\"]\n",
    "print(eth_price)"
   ]
  },
  {
   "cell_type": "code",
   "execution_count": 21,
   "metadata": {},
   "outputs": [
    {
     "name": "stdout",
     "output_type": "stream",
     "text": [
      "6.579296700794482\n"
     ]
    }
   ],
   "source": [
    "##############################################################\n",
    "# Convert basket token price calculated in USD to ETH \n",
    "# unit price for asset basket arbitarily set 10K USD for starters\n",
    "basket_token_USD_price = 10_000\n",
    "\n",
    "basket_token_ETH_price = basket_token_USD_price / eth_price\n",
    "print(basket_token_ETH_price)"
   ]
  },
  {
   "cell_type": "code",
   "execution_count": 22,
   "metadata": {},
   "outputs": [
    {
     "data": {
      "text/plain": [
       "6579296700794482000"
      ]
     },
     "execution_count": 22,
     "metadata": {},
     "output_type": "execute_result"
    }
   ],
   "source": [
    "##############################################################\n",
    "# Use Web3 Infura price to convert basket unit price in ether to wei\n",
    "# note could use hard coded value division here too, but allowing \n",
    "# for future crypto exchance flexibility\n",
    "infura_project_url = f\"https://mainnet.infura.io/v3/{project_id}\"\n",
    "w3 = Web3(Web3.HTTPProvider(infura_project_url))\n",
    "w3.toWei(basket_token_ETH_price,'ether')"
   ]
  },
  {
   "cell_type": "code",
   "execution_count": null,
   "metadata": {},
   "outputs": [],
   "source": [
    "@token_oracle.route('/isAlive')\n",
    "def index():\n",
    "    return \"true\"\n",
    "\n",
    "@token_oracle.route('/oracleTest', methods=['GET'])\n",
    "def get_token_fmv(fair_market_value):\n",
    "    return jsonify({\"result\" : fair_market_value})"
   ]
  },
  {
   "cell_type": "code",
   "execution_count": null,
   "metadata": {},
   "outputs": [],
   "source": [
    "if __name__ == '__main__':\n",
    "    token_oracle.run(port=5001,host='127.0.0.0')        \n",
    "    token_oracle.run(debug=True)"
   ]
  },
  {
   "cell_type": "code",
   "execution_count": null,
   "metadata": {},
   "outputs": [],
   "source": []
  }
 ],
 "metadata": {
  "kernelspec": {
   "display_name": "Python 3",
   "language": "python",
   "name": "python3"
  },
  "language_info": {
   "codemirror_mode": {
    "name": "ipython",
    "version": 3
   },
   "file_extension": ".py",
   "mimetype": "text/x-python",
   "name": "python",
   "nbconvert_exporter": "python",
   "pygments_lexer": "ipython3",
   "version": "3.7.9"
  }
 },
 "nbformat": 4,
 "nbformat_minor": 5
}
