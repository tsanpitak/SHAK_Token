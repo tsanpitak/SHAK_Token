{
 "cells": [
  {
   "cell_type": "code",
   "execution_count": null,
   "metadata": {},
   "outputs": [],
   "source": [
    "##############################################################\n",
    "# Just test code to validate oracalize function \n",
    "# using local host flask API endpoint instatiation"
   ]
  },
  {
   "cell_type": "code",
   "execution_count": null,
   "metadata": {},
   "outputs": [],
   "source": [
    "from flask import Flask\n",
    "from flask import request\n",
    "from flask import jsonify"
   ]
  },
  {
   "cell_type": "code",
   "execution_count": null,
   "metadata": {},
   "outputs": [],
   "source": [
    "token_oracle = Flask(__name__)\n",
    "fair_market_value = 9876543210\n",
    "\n",
    "@token_oracle.route('/isAlive')\n",
    "def index():\n",
    "    return \"true\"\n",
    "\n",
    "@token_oracle.route('/oracleTest', methods=['GET'])\n",
    "def get_token_fmv(fair_market_value):\n",
    "    return jsonify({\"result\" : fair_market_value})\n",
    "   \n",
    "if __name__ == '__main__':\n",
    "    token_oracle.run(port=5001,host='0.0.0.0')        \n",
    "    token_oracle.run(debug=True)"
   ]
  },
  {
   "cell_type": "code",
   "execution_count": null,
   "metadata": {},
   "outputs": [],
   "source": []
  }
 ],
 "metadata": {
  "kernelspec": {
   "display_name": "Python 3",
   "language": "python",
   "name": "python3"
  },
  "language_info": {
   "codemirror_mode": {
    "name": "ipython",
    "version": 3
   },
   "file_extension": ".py",
   "mimetype": "text/x-python",
   "name": "python",
   "nbconvert_exporter": "python",
   "pygments_lexer": "ipython3",
   "version": "3.7.9"
  }
 },
 "nbformat": 4,
 "nbformat_minor": 5
}
