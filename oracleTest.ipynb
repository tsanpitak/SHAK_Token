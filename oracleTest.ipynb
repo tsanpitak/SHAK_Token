{
 "cells": [
  {
   "cell_type": "code",
   "execution_count": 4,
   "metadata": {},
   "outputs": [],
   "source": [
    "##############################################################\n",
    "# Just test code to validate price oracle function \n",
    "# using local host flask API endpoint instatiation"
   ]
  },
  {
   "cell_type": "code",
   "execution_count": 5,
   "metadata": {},
   "outputs": [],
   "source": [
    "from requests import Request, Session\n",
    "from requests.exceptions import ConnectionError, Timeout, TooManyRedirects\n",
    "import json"
   ]
  },
  {
   "cell_type": "code",
   "execution_count": 6,
   "metadata": {},
   "outputs": [
    {
     "name": "stdout",
     "output_type": "stream",
     "text": [
      "{\n",
      "    \"wei\": 654986337529202300\n",
      "}\n"
     ]
    }
   ],
   "source": [
    "# Fetch latest basket token price in wei.\n",
    "\n",
    "SHAK_url = 'http://d7e4386616fd.ngrok.io/SHAK_wei_price'\n",
    "\n",
    "#SHAK_url = 'http://127.0.0.1:5001/SHAK_wei_price'\n",
    "headers = {\n",
    "    'Accepts': 'application/json'\n",
    "}\n",
    "session = Session()\n",
    "session.headers.update(headers)\n",
    "try:\n",
    "    response = session.get(SHAK_url)\n",
    "    data = json.loads(response.text)\n",
    "    print(json.dumps(data, indent=4))\n",
    "except (ConnectionError, Timeout, TooManyRedirects) as e:\n",
    "    print(e)"
   ]
  },
  {
   "cell_type": "code",
   "execution_count": null,
   "metadata": {},
   "outputs": [],
   "source": []
  },
  {
   "cell_type": "code",
   "execution_count": null,
   "metadata": {},
   "outputs": [],
   "source": []
  }
 ],
 "metadata": {
  "kernelspec": {
   "display_name": "Python 3",
   "language": "python",
   "name": "python3"
  },
  "language_info": {
   "codemirror_mode": {
    "name": "ipython",
    "version": 3
   },
   "file_extension": ".py",
   "mimetype": "text/x-python",
   "name": "python",
   "nbconvert_exporter": "python",
   "pygments_lexer": "ipython3",
   "version": "3.7.9"
  }
 },
 "nbformat": 4,
 "nbformat_minor": 5
}
